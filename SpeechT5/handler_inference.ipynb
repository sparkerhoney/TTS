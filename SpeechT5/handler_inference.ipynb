{
 "cells": [
  {
   "cell_type": "code",
   "execution_count": 1,
   "metadata": {},
   "outputs": [],
   "source": [
    "import soundfile as sf\n",
    "from transformers import SpeechT5Processor, SpeechT5ForTextToSpeech, SpeechT5HifiGan\n",
    "from datasets import load_dataset\n",
    "import torch"
   ]
  },
  {
   "cell_type": "code",
   "execution_count": 2,
   "metadata": {},
   "outputs": [],
   "source": [
    "class CustomTTSHandler:\n",
    "    def __init__(self, tts_model_dir, vocoder_model_dir):\n",
    "        self.processor = SpeechT5Processor.from_pretrained(tts_model_dir)\n",
    "        self.model = SpeechT5ForTextToSpeech.from_pretrained(tts_model_dir)\n",
    "        self.vocoder = SpeechT5HifiGan.from_pretrained(vocoder_model_dir)\n",
    "        \n",
    "        # Load speaker embeddings\n",
    "        embeddings_dataset = load_dataset(\"Matthijs/cmu-arctic-xvectors\", split=\"validation\")\n",
    "        self.speaker_embeddings = torch.tensor(embeddings_dataset[7306][\"xvector\"]).unsqueeze(0)\n",
    "\n",
    "    def predict(self, text):\n",
    "        inputs = self.processor(text=text, return_tensors=\"pt\")\n",
    "        with torch.no_grad():\n",
    "            speech = self.model.generate_speech(inputs[\"input_ids\"], self.speaker_embeddings, vocoder=self.vocoder)\n",
    "        return speech.numpy(), 16000  # numpy array와 sample rate를 반환합니다.\n"
   ]
  },
  {
   "cell_type": "code",
   "execution_count": 5,
   "metadata": {},
   "outputs": [],
   "source": [
    "# 모델 디렉토리 지정\n",
    "tts_model_dir = \"/Users/lhe339/Documents/GitHub/TTS/SpeechT5/merged_model_directory/tts_model\"  # Update this path\n",
    "vocoder_model_dir = \"/Users/lhe339/Documents/GitHub/TTS/SpeechT5/merged_model_directory/vocoder_model\"  # Update this path"
   ]
  },
  {
   "cell_type": "code",
   "execution_count": 6,
   "metadata": {},
   "outputs": [],
   "source": [
    "# CustomTTSHandler 인스턴스 생성\n",
    "tts_handler = CustomTTSHandler(tts_model_dir, vocoder_model_dir)"
   ]
  },
  {
   "cell_type": "code",
   "execution_count": 7,
   "metadata": {},
   "outputs": [],
   "source": [
    "# 텍스트를 음성으로 변환\n",
    "text = \"hi, my name is honey.\"\n",
    "speech_output, samplerate = tts_handler.predict(text)\n",
    "\n",
    "# 결과를 WAV 파일로 저장\n",
    "sf.write('ST5.wav', speech_output, samplerate)"
   ]
  },
  {
   "cell_type": "code",
   "execution_count": null,
   "metadata": {},
   "outputs": [],
   "source": []
  },
  {
   "cell_type": "markdown",
   "metadata": {},
   "source": []
  }
 ],
 "metadata": {
  "kernelspec": {
   "display_name": "torch",
   "language": "python",
   "name": "python3"
  },
  "language_info": {
   "codemirror_mode": {
    "name": "ipython",
    "version": 3
   },
   "file_extension": ".py",
   "mimetype": "text/x-python",
   "name": "python",
   "nbconvert_exporter": "python",
   "pygments_lexer": "ipython3",
   "version": "3.9.13"
  }
 },
 "nbformat": 4,
 "nbformat_minor": 2
}
