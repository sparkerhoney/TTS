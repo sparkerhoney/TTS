{
 "cells": [
  {
   "cell_type": "markdown",
   "metadata": {},
   "source": [
    "# Huggingface inference code"
   ]
  },
  {
   "cell_type": "code",
   "execution_count": 1,
   "metadata": {},
   "outputs": [],
   "source": [
    "from transformers import SpeechT5Processor, SpeechT5ForTextToSpeech, SpeechT5HifiGan\n",
    "from datasets import load_dataset\n",
    "import torch\n",
    "import soundfile as sf\n",
    "\n",
    "processor = SpeechT5Processor.from_pretrained(\"microsoft/speecht5_tts\")\n",
    "model = SpeechT5ForTextToSpeech.from_pretrained(\"microsoft/speecht5_tts\")\n",
    "vocoder = SpeechT5HifiGan.from_pretrained(\"microsoft/speecht5_hifigan\")\n",
    "\n",
    "inputs = processor(text=\"Hello, my dog is cute.\", return_tensors=\"pt\")\n",
    "\n",
    "# load xvector containing speaker's voice characteristics from a dataset\n",
    "embeddings_dataset = load_dataset(\"Matthijs/cmu-arctic-xvectors\", split=\"validation\")\n",
    "speaker_embeddings = torch.tensor(embeddings_dataset[7306][\"xvector\"]).unsqueeze(0)\n",
    "\n",
    "speech = model.generate_speech(inputs[\"input_ids\"], speaker_embeddings, vocoder=vocoder)\n",
    "\n",
    "sf.write(\"speech.wav\", speech.numpy(), samplerate=16000)"
   ]
  },
  {
   "cell_type": "markdown",
   "metadata": {},
   "source": [
    "# 모델 local에 저장하는 코드"
   ]
  },
  {
   "cell_type": "code",
   "execution_count": 3,
   "metadata": {},
   "outputs": [],
   "source": [
    "model.save_pretrained(\"microsoft/speecht5_tts\")\n",
    "processor.save_pretrained(\"microsoft/speecht5_tts\")\n",
    "vocoder.save_pretrained(\"microsoft/speecht5_hifigan\")"
   ]
  },
  {
   "cell_type": "markdown",
   "metadata": {},
   "source": [
    "# handler.py code"
   ]
  },
  {
   "cell_type": "code",
   "execution_count": 9,
   "metadata": {},
   "outputs": [],
   "source": [
    "import soundfile as sf\n",
    "from transformers import SpeechT5Processor, SpeechT5ForTextToSpeech, SpeechT5HifiGan\n",
    "from datasets import load_dataset\n",
    "import torch\n",
    "\n",
    "class CustomTTSHandler:\n",
    "    def __init__(self, model_dir, vocoder_dir):\n",
    "        self.processor = SpeechT5Processor.from_pretrained(model_dir)\n",
    "        self.model = SpeechT5ForTextToSpeech.from_pretrained(model_dir)\n",
    "        self.vocoder = SpeechT5HifiGan.from_pretrained(vocoder_dir)\n",
    "\n",
    "        # Load speaker embeddings\n",
    "        embeddings_dataset = load_dataset(\"Matthijs/cmu-arctic-xvectors\", split=\"validation\")\n",
    "        self.speaker_embeddings = torch.tensor(embeddings_dataset[7306][\"xvector\"]).unsqueeze(0)\n",
    "\n",
    "    def predict(self, text):\n",
    "        inputs = self.processor(text=text, return_tensors=\"pt\")\n",
    "        with torch.no_grad():\n",
    "            speech = self.model.generate_speech(inputs[\"input_ids\"], self.speaker_embeddings, vocoder=self.vocoder)\n",
    "        return speech\n",
    "\n",
    "# 모델 디렉토리 지정\n",
    "model_dir = \"/Users/lhe339/Documents/GitHub/TTS/SpeechT5/microsoft/speecht5_tts\"\n",
    "vocoder_dir = \"/Users/lhe339/Documents/GitHub/TTS/SpeechT5/microsoft/speecht5_hifigan\"\n",
    "\n",
    "# CustomTTSHandler 인스턴스 생성\n",
    "tts_handler = CustomTTSHandler(model_dir, vocoder_dir)\n",
    "\n",
    "# 텍스트를 음성으로 변환\n",
    "text = \"hi, my name is honey.\"\n",
    "speech_output = tts_handler.predict(text)\n",
    "\n",
    "# 결과를 WAV 파일로 저장\n",
    "sf.write('output.wav', speech_output.numpy(), samplerate=16000)"
   ]
  },
  {
   "cell_type": "code",
   "execution_count": null,
   "metadata": {},
   "outputs": [],
   "source": []
  }
 ],
 "metadata": {
  "kernelspec": {
   "display_name": "torch",
   "language": "python",
   "name": "python3"
  },
  "language_info": {
   "codemirror_mode": {
    "name": "ipython",
    "version": 3
   },
   "file_extension": ".py",
   "mimetype": "text/x-python",
   "name": "python",
   "nbconvert_exporter": "python",
   "pygments_lexer": "ipython3",
   "version": "3.9.13"
  }
 },
 "nbformat": 4,
 "nbformat_minor": 2
}
