{
 "cells": [
  {
   "cell_type": "markdown",
   "metadata": {},
   "source": [
    "### Define TTS Function"
   ]
  },
  {
   "cell_type": "code",
   "execution_count": 4,
   "metadata": {},
   "outputs": [],
   "source": [
    "import torch\n",
    "import json\n",
    "from TTS.utils.io import load_checkpoint\n",
    "from TTS.tts.models import setup_model"
   ]
  },
  {
   "cell_type": "code",
   "execution_count": 6,
   "metadata": {},
   "outputs": [],
   "source": [
    "# config 파일 로드\n",
    "with open('/Users/marketdesigners/Documents/GitHub/TTS/Tacotron2_test/model_check_point/config.json', 'r') as f:\n",
    "    config = json.load(f)"
   ]
  },
  {
   "cell_type": "code",
   "execution_count": 7,
   "metadata": {},
   "outputs": [
    {
     "ename": "TypeError",
     "evalue": "setup_model() takes from 1 to 2 positional arguments but 3 were given",
     "output_type": "error",
     "traceback": [
      "\u001b[0;31m---------------------------------------------------------------------------\u001b[0m",
      "\u001b[0;31mTypeError\u001b[0m                                 Traceback (most recent call last)",
      "Cell \u001b[0;32mIn[7], line 4\u001b[0m\n\u001b[1;32m      2\u001b[0m num_chars \u001b[39m=\u001b[39m \u001b[39mlen\u001b[39m(config[\u001b[39m'\u001b[39m\u001b[39msymbols\u001b[39m\u001b[39m'\u001b[39m]) \u001b[39mif\u001b[39;00m \u001b[39m'\u001b[39m\u001b[39msymbols\u001b[39m\u001b[39m'\u001b[39m \u001b[39min\u001b[39;00m config \u001b[39melse\u001b[39;00m \u001b[39m0\u001b[39m\n\u001b[1;32m      3\u001b[0m num_speakers \u001b[39m=\u001b[39m \u001b[39m0\u001b[39m\n\u001b[0;32m----> 4\u001b[0m model \u001b[39m=\u001b[39m setup_model(num_chars, num_speakers, config)\n",
      "\u001b[0;31mTypeError\u001b[0m: setup_model() takes from 1 to 2 positional arguments but 3 were given"
     ]
    }
   ],
   "source": [
    "# 모델 설정\n",
    "num_chars = len(config['symbols']) if 'symbols' in config else 0\n",
    "num_speakers = 0\n",
    "model = setup_model(num_chars, num_speakers, config)"
   ]
  },
  {
   "cell_type": "code",
   "execution_count": null,
   "metadata": {},
   "outputs": [],
   "source": []
  }
 ],
 "metadata": {
  "kernelspec": {
   "display_name": "Python 3",
   "language": "python",
   "name": "python3"
  },
  "language_info": {
   "codemirror_mode": {
    "name": "ipython",
    "version": 3
   },
   "file_extension": ".py",
   "mimetype": "text/x-python",
   "name": "python",
   "nbconvert_exporter": "python",
   "pygments_lexer": "ipython3",
   "version": "3.10.12"
  },
  "orig_nbformat": 4
 },
 "nbformat": 4,
 "nbformat_minor": 2
}
