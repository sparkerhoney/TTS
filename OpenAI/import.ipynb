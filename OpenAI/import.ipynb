{
 "cells": [
  {
   "cell_type": "code",
   "execution_count": 2,
   "metadata": {},
   "outputs": [],
   "source": [
    "from dotenv import load_dotenv\n",
    "from pathlib import Path\n",
    "import openai\n",
    "import os\n",
    "\n",
    "load_dotenv()\n",
    "\n",
    "# API 키 설정\n",
    "openai.api_key = os.environ.get('OPENAI_APIKEY')\n",
    "\n",
    "speech_file_path = Path('/Users/marketdesigners/Documents/GitHub/TTS/OpenAI') / \"speech_alloy.mp3\"\n",
    "response = openai.audio.speech.create(\n",
    "  model=\"tts-1\",\n",
    "  voice=\"alloy\",\n",
    "  input=\"Hi, Nice to meet you. My name is alloy.\"\n",
    ")\n",
    "\n",
    "response.stream_to_file(speech_file_path)"
   ]
  },
  {
   "cell_type": "code",
   "execution_count": 3,
   "metadata": {},
   "outputs": [],
   "source": [
    "from dotenv import load_dotenv\n",
    "from pathlib import Path\n",
    "import openai\n",
    "import os\n",
    "\n",
    "load_dotenv()\n",
    "\n",
    "# API 키 설정\n",
    "openai.api_key = os.environ.get('OPENAI_APIKEY')\n",
    "\n",
    "speech_file_path = Path('/Users/marketdesigners/Documents/GitHub/TTS/OpenAI') / \"speech_echo.mp3\"\n",
    "response = openai.audio.speech.create(\n",
    "  model=\"tts-1\",\n",
    "  voice=\"echo\",\n",
    "  input=\"Hi, Nice to meet you. My name is echo.\"\n",
    ")\n",
    "\n",
    "response.stream_to_file(speech_file_path)"
   ]
  },
  {
   "cell_type": "code",
   "execution_count": 4,
   "metadata": {},
   "outputs": [],
   "source": [
    "from dotenv import load_dotenv\n",
    "from pathlib import Path\n",
    "import openai\n",
    "import os\n",
    "\n",
    "load_dotenv()\n",
    "\n",
    "# API 키 설정\n",
    "openai.api_key = os.environ.get('OPENAI_APIKEY')\n",
    "\n",
    "speech_file_path = Path('/Users/marketdesigners/Documents/GitHub/TTS/OpenAI') / \"speech_fable.mp3\"\n",
    "response = openai.audio.speech.create(\n",
    "  model=\"tts-1\",\n",
    "  voice=\"fable\",\n",
    "  input=\"Hi, Nice to meet you. My name is fable.\"\n",
    ")\n",
    "\n",
    "response.stream_to_file(speech_file_path)"
   ]
  },
  {
   "cell_type": "code",
   "execution_count": 5,
   "metadata": {},
   "outputs": [],
   "source": [
    "from dotenv import load_dotenv\n",
    "from pathlib import Path\n",
    "import openai\n",
    "import os\n",
    "\n",
    "load_dotenv()\n",
    "\n",
    "# API 키 설정\n",
    "openai.api_key = os.environ.get('OPENAI_APIKEY')\n",
    "\n",
    "speech_file_path = Path('/Users/marketdesigners/Documents/GitHub/TTS/OpenAI') / \"speech_onyx.mp3\"\n",
    "response = openai.audio.speech.create(\n",
    "  model=\"tts-1\",\n",
    "  voice=\"onyx\",\n",
    "  input=\"Hi, Nice to meet you. My name is onyx.\"\n",
    ")\n",
    "\n",
    "response.stream_to_file(speech_file_path)"
   ]
  },
  {
   "cell_type": "code",
   "execution_count": 6,
   "metadata": {},
   "outputs": [],
   "source": [
    "from dotenv import load_dotenv\n",
    "from pathlib import Path\n",
    "import openai\n",
    "import os\n",
    "\n",
    "load_dotenv()\n",
    "\n",
    "# API 키 설정\n",
    "openai.api_key = os.environ.get('OPENAI_APIKEY')\n",
    "\n",
    "speech_file_path = Path('/Users/marketdesigners/Documents/GitHub/TTS/OpenAI') / \"speech_nova.mp3\"\n",
    "response = openai.audio.speech.create(\n",
    "  model=\"tts-1\",\n",
    "  voice=\"nova\",\n",
    "  input=\"Hi, Nice to meet you. My name is nova.\"\n",
    ")\n",
    "\n",
    "response.stream_to_file(speech_file_path)"
   ]
  },
  {
   "cell_type": "code",
   "execution_count": 7,
   "metadata": {},
   "outputs": [],
   "source": [
    "from dotenv import load_dotenv\n",
    "from pathlib import Path\n",
    "import openai\n",
    "import os\n",
    "\n",
    "load_dotenv()\n",
    "\n",
    "# API 키 설정\n",
    "openai.api_key = os.environ.get('OPENAI_APIKEY')\n",
    "\n",
    "speech_file_path = Path('/Users/marketdesigners/Documents/GitHub/TTS/OpenAI') / \"speech_shimmer.mp3\"\n",
    "response = openai.audio.speech.create(\n",
    "  model=\"tts-1\",\n",
    "  voice=\"shimmer\",\n",
    "  input=\"Hi, Nice to meet you. My name is shimmer.\"\n",
    ")\n",
    "\n",
    "response.stream_to_file(speech_file_path)"
   ]
  },
  {
   "cell_type": "code",
   "execution_count": null,
   "metadata": {},
   "outputs": [],
   "source": []
  }
 ],
 "metadata": {
  "kernelspec": {
   "display_name": "TTS",
   "language": "python",
   "name": "python3"
  },
  "language_info": {
   "codemirror_mode": {
    "name": "ipython",
    "version": 3
   },
   "file_extension": ".py",
   "mimetype": "text/x-python",
   "name": "python",
   "nbconvert_exporter": "python",
   "pygments_lexer": "ipython3",
   "version": "3.11.4"
  },
  "orig_nbformat": 4
 },
 "nbformat": 4,
 "nbformat_minor": 2
}
