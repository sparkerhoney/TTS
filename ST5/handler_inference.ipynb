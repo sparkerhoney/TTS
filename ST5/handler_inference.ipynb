{
 "cells": [
  {
   "cell_type": "code",
   "execution_count": 1,
   "metadata": {},
   "outputs": [
    {
     "name": "stdout",
     "output_type": "stream",
     "text": [
      "Output saved as output.wav\n"
     ]
    }
   ],
   "source": [
    "# inference.py\n",
    "from handler import Model\n",
    "import soundfile as sf\n",
    "\n",
    "def main():\n",
    "    # 모델 디렉터리 경로 지정\n",
    "    model_dir = \"merged_model_directory\"  # 이 경로는 당신의 모델 파일이 저장된 경로로 변경해야 합니다.\n",
    "    \n",
    "    # 모델 로드\n",
    "    model = Model.from_path(model_dir)\n",
    "    \n",
    "    # 텍스트 지정\n",
    "    text = \"Hello, this is a test.\"\n",
    "    \n",
    "    # 추론 수행\n",
    "    speech_output, samplerate = model.predict(text)\n",
    "    \n",
    "    # 결과 저장\n",
    "    output_filename = 'output.wav'\n",
    "    sf.write(output_filename, speech_output, samplerate)\n",
    "    print(f'Output saved as {output_filename}')\n",
    "\n",
    "if __name__ == \"__main__\":\n",
    "    main()\n"
   ]
  },
  {
   "cell_type": "code",
   "execution_count": null,
   "metadata": {},
   "outputs": [],
   "source": []
  }
 ],
 "metadata": {
  "kernelspec": {
   "display_name": "torch",
   "language": "python",
   "name": "python3"
  },
  "language_info": {
   "codemirror_mode": {
    "name": "ipython",
    "version": 3
   },
   "file_extension": ".py",
   "mimetype": "text/x-python",
   "name": "python",
   "nbconvert_exporter": "python",
   "pygments_lexer": "ipython3",
   "version": "3.9.13"
  }
 },
 "nbformat": 4,
 "nbformat_minor": 2
}
